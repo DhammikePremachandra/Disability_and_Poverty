{
 "cells": [
  {
   "cell_type": "code",
   "execution_count": 1,
   "metadata": {},
   "outputs": [],
   "source": [
    "import pandas as pd\n",
    "import numpy as np\n",
    "import matplotlib.pyplot as plt\n",
    "import seaborn as sns\n",
    "\n",
    "%matplotlib inline\n",
    "\n",
    "pd.set_option('display.max_columns', None)"
   ]
  },
  {
   "cell_type": "code",
   "execution_count": 4,
   "metadata": {},
   "outputs": [
    {
     "data": {
      "text/html": [
       "<div>\n",
       "<style scoped>\n",
       "    .dataframe tbody tr th:only-of-type {\n",
       "        vertical-align: middle;\n",
       "    }\n",
       "\n",
       "    .dataframe tbody tr th {\n",
       "        vertical-align: top;\n",
       "    }\n",
       "\n",
       "    .dataframe thead th {\n",
       "        text-align: right;\n",
       "    }\n",
       "</style>\n",
       "<table border=\"1\" class=\"dataframe\">\n",
       "  <thead>\n",
       "    <tr style=\"text-align: right;\">\n",
       "      <th></th>\n",
       "      <th>Financial Year</th>\n",
       "      <th>Gender of the Adult</th>\n",
       "      <th>Age band of the Adult</th>\n",
       "      <th>Disability Status of the Adult (dis)</th>\n",
       "      <th>Employment Status of the Adult (high level breakdowns) (emp, ftpt)</th>\n",
       "      <th>Government office region of the Household in the United Kingdom</th>\n",
       "      <th>Adult total, net Income received from all sources, in bands, in latest prices (weekly, CPI adjusted real terms) (colpall, cpi, dividend, inc, netinc, real, sc)</th>\n",
       "      <th>Count</th>\n",
       "    </tr>\n",
       "  </thead>\n",
       "  <tbody>\n",
       "    <tr>\n",
       "      <th>0</th>\n",
       "      <td>2022-23</td>\n",
       "      <td>Male</td>\n",
       "      <td>16 to 24 (adult) (adult)</td>\n",
       "      <td>Not a disabled child / adult / person</td>\n",
       "      <td>Employee</td>\n",
       "      <td>North East (E12000001)</td>\n",
       "      <td>Less than £50</td>\n",
       "      <td>..</td>\n",
       "    </tr>\n",
       "    <tr>\n",
       "      <th>1</th>\n",
       "      <td>2022-23</td>\n",
       "      <td>NaN</td>\n",
       "      <td>NaN</td>\n",
       "      <td>NaN</td>\n",
       "      <td>NaN</td>\n",
       "      <td>NaN</td>\n",
       "      <td>£50 - £99.99</td>\n",
       "      <td>..</td>\n",
       "    </tr>\n",
       "    <tr>\n",
       "      <th>2</th>\n",
       "      <td>2022-23</td>\n",
       "      <td>NaN</td>\n",
       "      <td>NaN</td>\n",
       "      <td>NaN</td>\n",
       "      <td>NaN</td>\n",
       "      <td>NaN</td>\n",
       "      <td>£100 - £149.99</td>\n",
       "      <td>..</td>\n",
       "    </tr>\n",
       "    <tr>\n",
       "      <th>3</th>\n",
       "      <td>2022-23</td>\n",
       "      <td>NaN</td>\n",
       "      <td>NaN</td>\n",
       "      <td>NaN</td>\n",
       "      <td>NaN</td>\n",
       "      <td>NaN</td>\n",
       "      <td>£150 - £199.99</td>\n",
       "      <td>4762</td>\n",
       "    </tr>\n",
       "    <tr>\n",
       "      <th>4</th>\n",
       "      <td>2022-23</td>\n",
       "      <td>NaN</td>\n",
       "      <td>NaN</td>\n",
       "      <td>NaN</td>\n",
       "      <td>NaN</td>\n",
       "      <td>NaN</td>\n",
       "      <td>£200 - £249.99</td>\n",
       "      <td>4424</td>\n",
       "    </tr>\n",
       "  </tbody>\n",
       "</table>\n",
       "</div>"
      ],
      "text/plain": [
       "  Financial Year Gender of the Adult     Age band of the Adult  \\\n",
       "0        2022-23                Male  16 to 24 (adult) (adult)   \n",
       "1        2022-23                 NaN                       NaN   \n",
       "2        2022-23                 NaN                       NaN   \n",
       "3        2022-23                 NaN                       NaN   \n",
       "4        2022-23                 NaN                       NaN   \n",
       "\n",
       "    Disability Status of the Adult (dis)  \\\n",
       "0  Not a disabled child / adult / person   \n",
       "1                                    NaN   \n",
       "2                                    NaN   \n",
       "3                                    NaN   \n",
       "4                                    NaN   \n",
       "\n",
       "  Employment Status of the Adult (high level breakdowns) (emp, ftpt)  \\\n",
       "0                                           Employee                   \n",
       "1                                                NaN                   \n",
       "2                                                NaN                   \n",
       "3                                                NaN                   \n",
       "4                                                NaN                   \n",
       "\n",
       "  Government office region of the Household in the United Kingdom  \\\n",
       "0                             North East (E12000001)                \n",
       "1                                                NaN                \n",
       "2                                                NaN                \n",
       "3                                                NaN                \n",
       "4                                                NaN                \n",
       "\n",
       "  Adult total, net Income received from all sources, in bands, in latest prices (weekly, CPI adjusted real terms) (colpall, cpi, dividend, inc, netinc, real, sc)  \\\n",
       "0                                      Less than £50                                                                                                                \n",
       "1                                       £50 - £99.99                                                                                                                \n",
       "2                                     £100 - £149.99                                                                                                                \n",
       "3                                     £150 - £199.99                                                                                                                \n",
       "4                                     £200 - £249.99                                                                                                                \n",
       "\n",
       "  Count  \n",
       "0    ..  \n",
       "1    ..  \n",
       "2    ..  \n",
       "3  4762  \n",
       "4  4424  "
      ]
     },
     "execution_count": 4,
     "metadata": {},
     "output_type": "execute_result"
    }
   ],
   "source": [
    "df = pd.read_csv('Latest FRS -2-modified.csv')\n",
    "df.head()"
   ]
  },
  {
   "cell_type": "code",
   "execution_count": 28,
   "metadata": {},
   "outputs": [
    {
     "data": {
      "text/html": [
       "<div>\n",
       "<style scoped>\n",
       "    .dataframe tbody tr th:only-of-type {\n",
       "        vertical-align: middle;\n",
       "    }\n",
       "\n",
       "    .dataframe tbody tr th {\n",
       "        vertical-align: top;\n",
       "    }\n",
       "\n",
       "    .dataframe thead th {\n",
       "        text-align: right;\n",
       "    }\n",
       "</style>\n",
       "<table border=\"1\" class=\"dataframe\">\n",
       "  <thead>\n",
       "    <tr style=\"text-align: right;\">\n",
       "      <th></th>\n",
       "      <th>Financial Year</th>\n",
       "      <th>Gender of the Adult</th>\n",
       "      <th>Age band of the Adult</th>\n",
       "      <th>Disability Status of the Adult (dis)</th>\n",
       "      <th>Employment Status of the Adult (high level breakdowns) (emp, ftpt)</th>\n",
       "      <th>Government office region of the Household in the United Kingdom</th>\n",
       "      <th>Adult total, net Income received from all sources, in bands, in latest prices (weekly, CPI adjusted real terms) (colpall, cpi, dividend, inc, netinc, real, sc)</th>\n",
       "      <th>Count</th>\n",
       "    </tr>\n",
       "  </thead>\n",
       "  <tbody>\n",
       "    <tr>\n",
       "      <th>0</th>\n",
       "      <td>2022-23</td>\n",
       "      <td>Male</td>\n",
       "      <td>16 to 24 (adult) (adult)</td>\n",
       "      <td>Not a disabled child / adult / person</td>\n",
       "      <td>Employee</td>\n",
       "      <td>North East (E12000001)</td>\n",
       "      <td>Less than £50</td>\n",
       "      <td>..</td>\n",
       "    </tr>\n",
       "    <tr>\n",
       "      <th>1</th>\n",
       "      <td>2022-23</td>\n",
       "      <td>Male</td>\n",
       "      <td>16 to 24 (adult) (adult)</td>\n",
       "      <td>Not a disabled child / adult / person</td>\n",
       "      <td>Employee</td>\n",
       "      <td>North East (E12000001)</td>\n",
       "      <td>£50 - £99.99</td>\n",
       "      <td>..</td>\n",
       "    </tr>\n",
       "    <tr>\n",
       "      <th>2</th>\n",
       "      <td>2022-23</td>\n",
       "      <td>Male</td>\n",
       "      <td>16 to 24 (adult) (adult)</td>\n",
       "      <td>Not a disabled child / adult / person</td>\n",
       "      <td>Employee</td>\n",
       "      <td>North East (E12000001)</td>\n",
       "      <td>£100 - £149.99</td>\n",
       "      <td>..</td>\n",
       "    </tr>\n",
       "    <tr>\n",
       "      <th>3</th>\n",
       "      <td>2022-23</td>\n",
       "      <td>Male</td>\n",
       "      <td>16 to 24 (adult) (adult)</td>\n",
       "      <td>Not a disabled child / adult / person</td>\n",
       "      <td>Employee</td>\n",
       "      <td>North East (E12000001)</td>\n",
       "      <td>£150 - £199.99</td>\n",
       "      <td>4762</td>\n",
       "    </tr>\n",
       "    <tr>\n",
       "      <th>4</th>\n",
       "      <td>2022-23</td>\n",
       "      <td>Male</td>\n",
       "      <td>16 to 24 (adult) (adult)</td>\n",
       "      <td>Not a disabled child / adult / person</td>\n",
       "      <td>Employee</td>\n",
       "      <td>North East (E12000001)</td>\n",
       "      <td>£200 - £249.99</td>\n",
       "      <td>4424</td>\n",
       "    </tr>\n",
       "  </tbody>\n",
       "</table>\n",
       "</div>"
      ],
      "text/plain": [
       "  Financial Year Gender of the Adult     Age band of the Adult  \\\n",
       "0        2022-23                Male  16 to 24 (adult) (adult)   \n",
       "1        2022-23                Male  16 to 24 (adult) (adult)   \n",
       "2        2022-23                Male  16 to 24 (adult) (adult)   \n",
       "3        2022-23                Male  16 to 24 (adult) (adult)   \n",
       "4        2022-23                Male  16 to 24 (adult) (adult)   \n",
       "\n",
       "    Disability Status of the Adult (dis)  \\\n",
       "0  Not a disabled child / adult / person   \n",
       "1  Not a disabled child / adult / person   \n",
       "2  Not a disabled child / adult / person   \n",
       "3  Not a disabled child / adult / person   \n",
       "4  Not a disabled child / adult / person   \n",
       "\n",
       "  Employment Status of the Adult (high level breakdowns) (emp, ftpt)  \\\n",
       "0                                           Employee                   \n",
       "1                                           Employee                   \n",
       "2                                           Employee                   \n",
       "3                                           Employee                   \n",
       "4                                           Employee                   \n",
       "\n",
       "  Government office region of the Household in the United Kingdom  \\\n",
       "0                             North East (E12000001)                \n",
       "1                             North East (E12000001)                \n",
       "2                             North East (E12000001)                \n",
       "3                             North East (E12000001)                \n",
       "4                             North East (E12000001)                \n",
       "\n",
       "  Adult total, net Income received from all sources, in bands, in latest prices (weekly, CPI adjusted real terms) (colpall, cpi, dividend, inc, netinc, real, sc)  \\\n",
       "0                                      Less than £50                                                                                                                \n",
       "1                                       £50 - £99.99                                                                                                                \n",
       "2                                     £100 - £149.99                                                                                                                \n",
       "3                                     £150 - £199.99                                                                                                                \n",
       "4                                     £200 - £249.99                                                                                                                \n",
       "\n",
       "  Count  \n",
       "0    ..  \n",
       "1    ..  \n",
       "2    ..  \n",
       "3  4762  \n",
       "4  4424  "
      ]
     },
     "execution_count": 28,
     "metadata": {},
     "output_type": "execute_result"
    }
   ],
   "source": [
    "# Filling missing values in the 'Gender of the Adult', 'Age band of the \n",
    "# Adult', 'Disability Status of the Adult (dis)', 'Employment Status of \n",
    "# the Adult (high level breakdowns) (emp, ftpt)', 'Government office \n",
    "# region of the Household in the United Kingdom' columns.\n",
    "for col in enumerate(df.columns.to_list()[1:-2]):\n",
    "    df[col[1]] = df[col[1]].ffill()\n",
    "\n",
    "df.head()"
   ]
  },
  {
   "cell_type": "code",
   "execution_count": 29,
   "metadata": {},
   "outputs": [
    {
     "name": "stdout",
     "output_type": "stream",
     "text": [
      "<class 'pandas.core.frame.DataFrame'>\n",
      "RangeIndex: 19440 entries, 0 to 19439\n",
      "Data columns (total 8 columns):\n",
      " #   Column                                                                                                                                                           Non-Null Count  Dtype \n",
      "---  ------                                                                                                                                                           --------------  ----- \n",
      " 0   Financial Year                                                                                                                                                   19440 non-null  object\n",
      " 1   Gender of the Adult                                                                                                                                              19440 non-null  object\n",
      " 2   Age band of the Adult                                                                                                                                            19440 non-null  object\n",
      " 3   Disability Status of the Adult (dis)                                                                                                                             19440 non-null  object\n",
      " 4   Employment Status of the Adult (high level breakdowns) (emp, ftpt)                                                                                               19440 non-null  object\n",
      " 5   Government office region of the Household in the United Kingdom                                                                                                  19440 non-null  object\n",
      " 6   Adult total, net Income received from all sources, in bands, in latest prices (weekly, CPI adjusted real terms) (colpall, cpi, dividend, inc, netinc, real, sc)  19440 non-null  object\n",
      " 7   Count                                                                                                                                                            19440 non-null  object\n",
      "dtypes: object(8)\n",
      "memory usage: 1.2+ MB\n"
     ]
    }
   ],
   "source": [
    "df.info()"
   ]
  },
  {
   "cell_type": "code",
   "execution_count": 30,
   "metadata": {},
   "outputs": [
    {
     "data": {
      "text/html": [
       "<div>\n",
       "<style scoped>\n",
       "    .dataframe tbody tr th:only-of-type {\n",
       "        vertical-align: middle;\n",
       "    }\n",
       "\n",
       "    .dataframe tbody tr th {\n",
       "        vertical-align: top;\n",
       "    }\n",
       "\n",
       "    .dataframe thead th {\n",
       "        text-align: right;\n",
       "    }\n",
       "</style>\n",
       "<table border=\"1\" class=\"dataframe\">\n",
       "  <thead>\n",
       "    <tr style=\"text-align: right;\">\n",
       "      <th></th>\n",
       "      <th>Financial Year</th>\n",
       "      <th>Gender of the Adult</th>\n",
       "      <th>Age band of the Adult</th>\n",
       "      <th>Disability Status of the Adult (dis)</th>\n",
       "      <th>Employment Status of the Adult (high level breakdowns) (emp, ftpt)</th>\n",
       "      <th>Government office region of the Household in the United Kingdom</th>\n",
       "      <th>Adult total, net Income received from all sources, in bands, in latest prices (weekly, CPI adjusted real terms) (colpall, cpi, dividend, inc, netinc, real, sc)</th>\n",
       "      <th>Count</th>\n",
       "    </tr>\n",
       "  </thead>\n",
       "  <tbody>\n",
       "  </tbody>\n",
       "</table>\n",
       "</div>"
      ],
      "text/plain": [
       "Empty DataFrame\n",
       "Columns: [Financial Year, Gender of the Adult, Age band of the Adult, Disability Status of the Adult (dis), Employment Status of the Adult (high level breakdowns) (emp, ftpt), Government office region of the Household in the United Kingdom, Adult total, net Income received from all sources, in bands, in latest prices (weekly, CPI adjusted real terms) (colpall, cpi, dividend, inc, netinc, real, sc), Count]\n",
       "Index: []"
      ]
     },
     "execution_count": 30,
     "metadata": {},
     "output_type": "execute_result"
    }
   ],
   "source": [
    "# Checking for duplicates.\n",
    "duplicates = df[df.duplicated()]\n",
    "duplicates"
   ]
  },
  {
   "cell_type": "code",
   "execution_count": 31,
   "metadata": {},
   "outputs": [
    {
     "data": {
      "text/html": [
       "<div>\n",
       "<style scoped>\n",
       "    .dataframe tbody tr th:only-of-type {\n",
       "        vertical-align: middle;\n",
       "    }\n",
       "\n",
       "    .dataframe tbody tr th {\n",
       "        vertical-align: top;\n",
       "    }\n",
       "\n",
       "    .dataframe thead th {\n",
       "        text-align: right;\n",
       "    }\n",
       "</style>\n",
       "<table border=\"1\" class=\"dataframe\">\n",
       "  <thead>\n",
       "    <tr style=\"text-align: right;\">\n",
       "      <th></th>\n",
       "      <th>Financial Year</th>\n",
       "      <th>Gender of the Adult</th>\n",
       "      <th>Age band of the Adult</th>\n",
       "      <th>Disability Status of the Adult (dis)</th>\n",
       "      <th>Employment Status of the Adult (high level breakdowns) (emp, ftpt)</th>\n",
       "      <th>Government office region of the Household in the United Kingdom</th>\n",
       "      <th>Adult total, net Income received from all sources, in bands, in latest prices (weekly, CPI adjusted real terms) (colpall, cpi, dividend, inc, netinc, real, sc)</th>\n",
       "      <th>Count</th>\n",
       "    </tr>\n",
       "  </thead>\n",
       "  <tbody>\n",
       "    <tr>\n",
       "      <th>count</th>\n",
       "      <td>19440</td>\n",
       "      <td>19440</td>\n",
       "      <td>19440</td>\n",
       "      <td>19440</td>\n",
       "      <td>19440</td>\n",
       "      <td>19440</td>\n",
       "      <td>19440</td>\n",
       "      <td>19440</td>\n",
       "    </tr>\n",
       "    <tr>\n",
       "      <th>unique</th>\n",
       "      <td>1</td>\n",
       "      <td>2</td>\n",
       "      <td>9</td>\n",
       "      <td>2</td>\n",
       "      <td>5</td>\n",
       "      <td>12</td>\n",
       "      <td>9</td>\n",
       "      <td>4852</td>\n",
       "    </tr>\n",
       "    <tr>\n",
       "      <th>top</th>\n",
       "      <td>2022-23</td>\n",
       "      <td>Male</td>\n",
       "      <td>16 to 24 (adult) (adult)</td>\n",
       "      <td>Not a disabled child / adult / person</td>\n",
       "      <td>Employee</td>\n",
       "      <td>North East (E12000001)</td>\n",
       "      <td>Less than £50</td>\n",
       "      <td>..</td>\n",
       "    </tr>\n",
       "    <tr>\n",
       "      <th>freq</th>\n",
       "      <td>19440</td>\n",
       "      <td>9720</td>\n",
       "      <td>2160</td>\n",
       "      <td>9720</td>\n",
       "      <td>3888</td>\n",
       "      <td>1620</td>\n",
       "      <td>2160</td>\n",
       "      <td>11847</td>\n",
       "    </tr>\n",
       "  </tbody>\n",
       "</table>\n",
       "</div>"
      ],
      "text/plain": [
       "       Financial Year Gender of the Adult     Age band of the Adult  \\\n",
       "count           19440               19440                     19440   \n",
       "unique              1                   2                         9   \n",
       "top           2022-23                Male  16 to 24 (adult) (adult)   \n",
       "freq            19440                9720                      2160   \n",
       "\n",
       "         Disability Status of the Adult (dis)  \\\n",
       "count                                   19440   \n",
       "unique                                      2   \n",
       "top     Not a disabled child / adult / person   \n",
       "freq                                     9720   \n",
       "\n",
       "       Employment Status of the Adult (high level breakdowns) (emp, ftpt)  \\\n",
       "count                                               19440                   \n",
       "unique                                                  5                   \n",
       "top                                              Employee                   \n",
       "freq                                                 3888                   \n",
       "\n",
       "       Government office region of the Household in the United Kingdom  \\\n",
       "count                                               19440                \n",
       "unique                                                 12                \n",
       "top                                North East (E12000001)                \n",
       "freq                                                 1620                \n",
       "\n",
       "       Adult total, net Income received from all sources, in bands, in latest prices (weekly, CPI adjusted real terms) (colpall, cpi, dividend, inc, netinc, real, sc)  \\\n",
       "count                                               19440                                                                                                                \n",
       "unique                                                  9                                                                                                                \n",
       "top                                         Less than £50                                                                                                                \n",
       "freq                                                 2160                                                                                                                \n",
       "\n",
       "        Count  \n",
       "count   19440  \n",
       "unique   4852  \n",
       "top        ..  \n",
       "freq    11847  "
      ]
     },
     "execution_count": 31,
     "metadata": {},
     "output_type": "execute_result"
    }
   ],
   "source": [
    "# Descriptive statistics for numerical columns.\n",
    "df.describe()"
   ]
  },
  {
   "cell_type": "code",
   "execution_count": 32,
   "metadata": {},
   "outputs": [
    {
     "data": {
      "text/plain": [
       "Financial Year                                                                                                                                                     0\n",
       "Gender of the Adult                                                                                                                                                0\n",
       "Age band of the Adult                                                                                                                                              0\n",
       "Disability Status of the Adult (dis)                                                                                                                               0\n",
       "Employment Status of the Adult (high level breakdowns) (emp, ftpt)                                                                                                 0\n",
       "Government office region of the Household in the United Kingdom                                                                                                    0\n",
       "Adult total, net Income received from all sources, in bands, in latest prices (weekly, CPI adjusted real terms) (colpall, cpi, dividend, inc, netinc, real, sc)    0\n",
       "Count                                                                                                                                                              0\n",
       "dtype: int64"
      ]
     },
     "execution_count": 32,
     "metadata": {},
     "output_type": "execute_result"
    }
   ],
   "source": [
    "# Exploring missing values.\n",
    "df.isnull().sum()"
   ]
  },
  {
   "cell_type": "code",
   "execution_count": 33,
   "metadata": {},
   "outputs": [
    {
     "data": {
      "text/plain": [
       "(19440, 8)"
      ]
     },
     "execution_count": 33,
     "metadata": {},
     "output_type": "execute_result"
    }
   ],
   "source": [
    "df.shape"
   ]
  },
  {
   "cell_type": "code",
   "execution_count": 34,
   "metadata": {},
   "outputs": [
    {
     "data": {
      "text/plain": [
       "array(['Male', 'Female'], dtype=object)"
      ]
     },
     "execution_count": 34,
     "metadata": {},
     "output_type": "execute_result"
    }
   ],
   "source": [
    "# Looking at unique values in the 'Gender of the Adult' column.\n",
    "df['Gender of the Adult'].unique()"
   ]
  },
  {
   "cell_type": "code",
   "execution_count": 35,
   "metadata": {},
   "outputs": [
    {
     "data": {
      "image/png": "[encoded data removed]",
      "text/plain": [
       "<Figure size 1000x500 with 1 Axes>"
      ]
     },
     "metadata": {},
     "output_type": "display_data"
    }
   ],
   "source": [
    "# Distribution of the Gender of the Adult.\n",
    "plt.figure(figsize=[10, 5])\n",
    "df['Gender of the Adult'].value_counts().plot(kind='bar')\n",
    "plt.title(\"Distribution of the Gender of the Adult\")\n",
    "plt.xlabel(\"Gender\")\n",
    "plt.ylabel('Count')\n",
    "plt.show()"
   ]
  },
  {
   "cell_type": "code",
   "execution_count": 36,
   "metadata": {},
   "outputs": [],
   "source": [
    "# Rename 'Age band of the Adult' column to 'Age'.\n",
    "df.rename(columns={'Gender of the Adult': 'Gender'}, inplace=True)"
   ]
  },
  {
   "cell_type": "code",
   "execution_count": 37,
   "metadata": {},
   "outputs": [
    {
     "data": {
      "text/plain": [
       "array(['16 to 24 (adult) (adult)', '25 to 34', '35 to 44', '45 to 54',\n",
       "       '55 to 59', '60 to 64', '65 to 74 (age)', '75 to 84', '85 or over'],\n",
       "      dtype=object)"
      ]
     },
     "execution_count": 37,
     "metadata": {},
     "output_type": "execute_result"
    }
   ],
   "source": [
    "# Checking unique values in the 'Age band of the Adult' column.\n",
    "df['Age band of the Adult'].unique()"
   ]
  },
  {
   "cell_type": "code",
   "execution_count": 38,
   "metadata": {},
   "outputs": [
    {
     "data": {
      "image/png": "[encoded data removed]",
      "text/plain": [
       "<Figure size 1000x500 with 1 Axes>"
      ]
     },
     "metadata": {},
     "output_type": "display_data"
    }
   ],
   "source": [
    "# Distribution of the Age band of the Adult.\n",
    "plt.figure(figsize=[10, 5])\n",
    "df['Age band of the Adult'].value_counts().sort_index().plot(kind='bar')\n",
    "plt.title(\"Distribution of the Age band of the Adult\")\n",
    "plt.xlabel(\"Age Band\")\n",
    "plt.ylabel('Count')\n",
    "plt.show()"
   ]
  },
  {
   "cell_type": "code",
   "execution_count": 39,
   "metadata": {},
   "outputs": [],
   "source": [
    "# Cleaning 'Age band of the Adult' column.\n",
    "df['Age band of the Adult'] = df['Age band of the Adult'].map({\n",
    "    '16 to 24 (adult) (adult)' : '16 - 24',\n",
    "    '25 to 34' : '25 - 34',\n",
    "    '35 to 44' : '35 - 44',\n",
    "    '45 to 54' : '45 - 54',\n",
    "    '55 to 59' : '55 - 59',\n",
    "    '60 to 64' : '60 - 64',\n",
    "    '65 to 74 (age)' : '65 -74',\n",
    "    '75 to 84' : '75 - 84',\n",
    "    '85 or over' : '85 or over'\n",
    "}).fillna('Unknown')"
   ]
  },
  {
   "cell_type": "code",
   "execution_count": 40,
   "metadata": {},
   "outputs": [],
   "source": [
    "# Rename 'Age band of the Adult' column to 'Age'.\n",
    "df.rename(columns={'Age band of the Adult': 'Age_Band'}, inplace=True)"
   ]
  },
  {
   "cell_type": "code",
   "execution_count": 41,
   "metadata": {},
   "outputs": [
    {
     "data": {
      "text/html": [
       "<div>\n",
       "<style scoped>\n",
       "    .dataframe tbody tr th:only-of-type {\n",
       "        vertical-align: middle;\n",
       "    }\n",
       "\n",
       "    .dataframe tbody tr th {\n",
       "        vertical-align: top;\n",
       "    }\n",
       "\n",
       "    .dataframe thead th {\n",
       "        text-align: right;\n",
       "    }\n",
       "</style>\n",
       "<table border=\"1\" class=\"dataframe\">\n",
       "  <thead>\n",
       "    <tr style=\"text-align: right;\">\n",
       "      <th></th>\n",
       "      <th>Financial Year</th>\n",
       "      <th>Gender</th>\n",
       "      <th>Age_Band</th>\n",
       "      <th>Disability Status of the Adult (dis)</th>\n",
       "      <th>Employment Status of the Adult (high level breakdowns) (emp, ftpt)</th>\n",
       "      <th>Government office region of the Household in the United Kingdom</th>\n",
       "      <th>Adult total, net Income received from all sources, in bands, in latest prices (weekly, CPI adjusted real terms) (colpall, cpi, dividend, inc, netinc, real, sc)</th>\n",
       "      <th>Count</th>\n",
       "    </tr>\n",
       "  </thead>\n",
       "  <tbody>\n",
       "    <tr>\n",
       "      <th>0</th>\n",
       "      <td>2022-23</td>\n",
       "      <td>Male</td>\n",
       "      <td>16 - 24</td>\n",
       "      <td>Not a disabled child / adult / person</td>\n",
       "      <td>Employee</td>\n",
       "      <td>North East (E12000001)</td>\n",
       "      <td>Less than £50</td>\n",
       "      <td>..</td>\n",
       "    </tr>\n",
       "    <tr>\n",
       "      <th>1</th>\n",
       "      <td>2022-23</td>\n",
       "      <td>Male</td>\n",
       "      <td>16 - 24</td>\n",
       "      <td>Not a disabled child / adult / person</td>\n",
       "      <td>Employee</td>\n",
       "      <td>North East (E12000001)</td>\n",
       "      <td>£50 - £99.99</td>\n",
       "      <td>..</td>\n",
       "    </tr>\n",
       "    <tr>\n",
       "      <th>2</th>\n",
       "      <td>2022-23</td>\n",
       "      <td>Male</td>\n",
       "      <td>16 - 24</td>\n",
       "      <td>Not a disabled child / adult / person</td>\n",
       "      <td>Employee</td>\n",
       "      <td>North East (E12000001)</td>\n",
       "      <td>£100 - £149.99</td>\n",
       "      <td>..</td>\n",
       "    </tr>\n",
       "    <tr>\n",
       "      <th>3</th>\n",
       "      <td>2022-23</td>\n",
       "      <td>Male</td>\n",
       "      <td>16 - 24</td>\n",
       "      <td>Not a disabled child / adult / person</td>\n",
       "      <td>Employee</td>\n",
       "      <td>North East (E12000001)</td>\n",
       "      <td>£150 - £199.99</td>\n",
       "      <td>4762</td>\n",
       "    </tr>\n",
       "    <tr>\n",
       "      <th>4</th>\n",
       "      <td>2022-23</td>\n",
       "      <td>Male</td>\n",
       "      <td>16 - 24</td>\n",
       "      <td>Not a disabled child / adult / person</td>\n",
       "      <td>Employee</td>\n",
       "      <td>North East (E12000001)</td>\n",
       "      <td>£200 - £249.99</td>\n",
       "      <td>4424</td>\n",
       "    </tr>\n",
       "  </tbody>\n",
       "</table>\n",
       "</div>"
      ],
      "text/plain": [
       "  Financial Year Gender Age_Band   Disability Status of the Adult (dis)  \\\n",
       "0        2022-23   Male  16 - 24  Not a disabled child / adult / person   \n",
       "1        2022-23   Male  16 - 24  Not a disabled child / adult / person   \n",
       "2        2022-23   Male  16 - 24  Not a disabled child / adult / person   \n",
       "3        2022-23   Male  16 - 24  Not a disabled child / adult / person   \n",
       "4        2022-23   Male  16 - 24  Not a disabled child / adult / person   \n",
       "\n",
       "  Employment Status of the Adult (high level breakdowns) (emp, ftpt)  \\\n",
       "0                                           Employee                   \n",
       "1                                           Employee                   \n",
       "2                                           Employee                   \n",
       "3                                           Employee                   \n",
       "4                                           Employee                   \n",
       "\n",
       "  Government office region of the Household in the United Kingdom  \\\n",
       "0                             North East (E12000001)                \n",
       "1                             North East (E12000001)                \n",
       "2                             North East (E12000001)                \n",
       "3                             North East (E12000001)                \n",
       "4                             North East (E12000001)                \n",
       "\n",
       "  Adult total, net Income received from all sources, in bands, in latest prices (weekly, CPI adjusted real terms) (colpall, cpi, dividend, inc, netinc, real, sc)  \\\n",
       "0                                      Less than £50                                                                                                                \n",
       "1                                       £50 - £99.99                                                                                                                \n",
       "2                                     £100 - £149.99                                                                                                                \n",
       "3                                     £150 - £199.99                                                                                                                \n",
       "4                                     £200 - £249.99                                                                                                                \n",
       "\n",
       "  Count  \n",
       "0    ..  \n",
       "1    ..  \n",
       "2    ..  \n",
       "3  4762  \n",
       "4  4424  "
      ]
     },
     "execution_count": 41,
     "metadata": {},
     "output_type": "execute_result"
    }
   ],
   "source": [
    "df.head()"
   ]
  },
  {
   "cell_type": "code",
   "execution_count": 42,
   "metadata": {},
   "outputs": [
    {
     "data": {
      "text/plain": [
       "array(['Not a disabled child / adult / person',\n",
       "       'Disabled child / adult / person'], dtype=object)"
      ]
     },
     "execution_count": 42,
     "metadata": {},
     "output_type": "execute_result"
    }
   ],
   "source": [
    "# Looking for unique values in the 'Disability Status of the Adult (dis)'.\n",
    "df['Disability Status of the Adult (dis)'].unique()"
   ]
  },
  {
   "cell_type": "code",
   "execution_count": 43,
   "metadata": {},
   "outputs": [
    {
     "data": {
      "image/png": "[encoded data removed]",
      "text/plain": [
       "<Figure size 1000x500 with 1 Axes>"
      ]
     },
     "metadata": {},
     "output_type": "display_data"
    }
   ],
   "source": [
    "# Distribution of the 'Disability Status of the Adult (dis)'.\n",
    "plt.figure(figsize=[10,5])\n",
    "df['Disability Status of the Adult (dis)'].value_counts().plot(kind='bar')\n",
    "plt.title(\"Distribution of the Disability Status of the Adult (dis)\")\n",
    "plt.xlabel(\"Disability Status\")\n",
    "plt.ylabel('Count')\n",
    "plt.show()"
   ]
  },
  {
   "cell_type": "code",
   "execution_count": 44,
   "metadata": {},
   "outputs": [
    {
     "data": {
      "text/html": [
       "<div>\n",
       "<style scoped>\n",
       "    .dataframe tbody tr th:only-of-type {\n",
       "        vertical-align: middle;\n",
       "    }\n",
       "\n",
       "    .dataframe tbody tr th {\n",
       "        vertical-align: top;\n",
       "    }\n",
       "\n",
       "    .dataframe thead th {\n",
       "        text-align: right;\n",
       "    }\n",
       "</style>\n",
       "<table border=\"1\" class=\"dataframe\">\n",
       "  <thead>\n",
       "    <tr style=\"text-align: right;\">\n",
       "      <th></th>\n",
       "      <th>Financial Year</th>\n",
       "      <th>Gender</th>\n",
       "      <th>Age_Band</th>\n",
       "      <th>Disability_Status</th>\n",
       "      <th>Employment Status of the Adult (high level breakdowns) (emp, ftpt)</th>\n",
       "      <th>Government office region of the Household in the United Kingdom</th>\n",
       "      <th>Adult total, net Income received from all sources, in bands, in latest prices (weekly, CPI adjusted real terms) (colpall, cpi, dividend, inc, netinc, real, sc)</th>\n",
       "      <th>Count</th>\n",
       "    </tr>\n",
       "  </thead>\n",
       "  <tbody>\n",
       "    <tr>\n",
       "      <th>0</th>\n",
       "      <td>2022-23</td>\n",
       "      <td>Male</td>\n",
       "      <td>16 - 24</td>\n",
       "      <td>Not a disabled</td>\n",
       "      <td>Employee</td>\n",
       "      <td>North East (E12000001)</td>\n",
       "      <td>Less than £50</td>\n",
       "      <td>..</td>\n",
       "    </tr>\n",
       "    <tr>\n",
       "      <th>1</th>\n",
       "      <td>2022-23</td>\n",
       "      <td>Male</td>\n",
       "      <td>16 - 24</td>\n",
       "      <td>Not a disabled</td>\n",
       "      <td>Employee</td>\n",
       "      <td>North East (E12000001)</td>\n",
       "      <td>£50 - £99.99</td>\n",
       "      <td>..</td>\n",
       "    </tr>\n",
       "    <tr>\n",
       "      <th>2</th>\n",
       "      <td>2022-23</td>\n",
       "      <td>Male</td>\n",
       "      <td>16 - 24</td>\n",
       "      <td>Not a disabled</td>\n",
       "      <td>Employee</td>\n",
       "      <td>North East (E12000001)</td>\n",
       "      <td>£100 - £149.99</td>\n",
       "      <td>..</td>\n",
       "    </tr>\n",
       "    <tr>\n",
       "      <th>3</th>\n",
       "      <td>2022-23</td>\n",
       "      <td>Male</td>\n",
       "      <td>16 - 24</td>\n",
       "      <td>Not a disabled</td>\n",
       "      <td>Employee</td>\n",
       "      <td>North East (E12000001)</td>\n",
       "      <td>£150 - £199.99</td>\n",
       "      <td>4762</td>\n",
       "    </tr>\n",
       "    <tr>\n",
       "      <th>4</th>\n",
       "      <td>2022-23</td>\n",
       "      <td>Male</td>\n",
       "      <td>16 - 24</td>\n",
       "      <td>Not a disabled</td>\n",
       "      <td>Employee</td>\n",
       "      <td>North East (E12000001)</td>\n",
       "      <td>£200 - £249.99</td>\n",
       "      <td>4424</td>\n",
       "    </tr>\n",
       "  </tbody>\n",
       "</table>\n",
       "</div>"
      ],
      "text/plain": [
       "  Financial Year Gender Age_Band Disability_Status  \\\n",
       "0        2022-23   Male  16 - 24    Not a disabled   \n",
       "1        2022-23   Male  16 - 24    Not a disabled   \n",
       "2        2022-23   Male  16 - 24    Not a disabled   \n",
       "3        2022-23   Male  16 - 24    Not a disabled   \n",
       "4        2022-23   Male  16 - 24    Not a disabled   \n",
       "\n",
       "  Employment Status of the Adult (high level breakdowns) (emp, ftpt)  \\\n",
       "0                                           Employee                   \n",
       "1                                           Employee                   \n",
       "2                                           Employee                   \n",
       "3                                           Employee                   \n",
       "4                                           Employee                   \n",
       "\n",
       "  Government office region of the Household in the United Kingdom  \\\n",
       "0                             North East (E12000001)                \n",
       "1                             North East (E12000001)                \n",
       "2                             North East (E12000001)                \n",
       "3                             North East (E12000001)                \n",
       "4                             North East (E12000001)                \n",
       "\n",
       "  Adult total, net Income received from all sources, in bands, in latest prices (weekly, CPI adjusted real terms) (colpall, cpi, dividend, inc, netinc, real, sc)  \\\n",
       "0                                      Less than £50                                                                                                                \n",
       "1                                       £50 - £99.99                                                                                                                \n",
       "2                                     £100 - £149.99                                                                                                                \n",
       "3                                     £150 - £199.99                                                                                                                \n",
       "4                                     £200 - £249.99                                                                                                                \n",
       "\n",
       "  Count  \n",
       "0    ..  \n",
       "1    ..  \n",
       "2    ..  \n",
       "3  4762  \n",
       "4  4424  "
      ]
     },
     "execution_count": 44,
     "metadata": {},
     "output_type": "execute_result"
    }
   ],
   "source": [
    "# Cleaning 'Disability Status of the Adult (dis)' column.\n",
    "df.rename(columns={'Disability Status of the Adult (dis)' : 'Disability_Status'}, \n",
    "    inplace=True\n",
    ")\n",
    "\n",
    "df['Disability_Status'] = df['Disability_Status'].map({\n",
    "    'Not a disabled child / adult / person' : 'Not a disabled',\n",
    "    'Disabled child / adult / person' : 'Disabled'\n",
    "}).fillna('Unknown')\n",
    "\n",
    "df.head()"
   ]
  },
  {
   "cell_type": "code",
   "execution_count": 45,
   "metadata": {},
   "outputs": [
    {
     "data": {
      "text/plain": [
       "Disability_Status\n",
       "Disabled          2615......2217208842564036..18191286....1372.....\n",
       "Not a disabled    ......4762442438051572617206811229045411119831...\n",
       "Name: Count, dtype: object"
      ]
     },
     "execution_count": 45,
     "metadata": {},
     "output_type": "execute_result"
    }
   ],
   "source": [
    "df.groupby('Disability_Status')['Count'].sum()"
   ]
  },
  {
   "cell_type": "code",
   "execution_count": 46,
   "metadata": {},
   "outputs": [
    {
     "data": {
      "text/html": [
       "<div>\n",
       "<style scoped>\n",
       "    .dataframe tbody tr th:only-of-type {\n",
       "        vertical-align: middle;\n",
       "    }\n",
       "\n",
       "    .dataframe tbody tr th {\n",
       "        vertical-align: top;\n",
       "    }\n",
       "\n",
       "    .dataframe thead th {\n",
       "        text-align: right;\n",
       "    }\n",
       "</style>\n",
       "<table border=\"1\" class=\"dataframe\">\n",
       "  <thead>\n",
       "    <tr style=\"text-align: right;\">\n",
       "      <th></th>\n",
       "      <th>Financial Year</th>\n",
       "      <th>Gender</th>\n",
       "      <th>Age_Band</th>\n",
       "      <th>Disability_Status</th>\n",
       "      <th>Employment_Status</th>\n",
       "      <th>Region_of_the_Household</th>\n",
       "      <th>Net_Income_Received_from_all_sources_Weekly</th>\n",
       "      <th>Count</th>\n",
       "    </tr>\n",
       "  </thead>\n",
       "  <tbody>\n",
       "    <tr>\n",
       "      <th>0</th>\n",
       "      <td>2022-23</td>\n",
       "      <td>Male</td>\n",
       "      <td>16 - 24</td>\n",
       "      <td>Not a disabled</td>\n",
       "      <td>Employee</td>\n",
       "      <td>North East (E12000001)</td>\n",
       "      <td>Less than £50</td>\n",
       "      <td>..</td>\n",
       "    </tr>\n",
       "    <tr>\n",
       "      <th>1</th>\n",
       "      <td>2022-23</td>\n",
       "      <td>Male</td>\n",
       "      <td>16 - 24</td>\n",
       "      <td>Not a disabled</td>\n",
       "      <td>Employee</td>\n",
       "      <td>North East (E12000001)</td>\n",
       "      <td>£50 - £99.99</td>\n",
       "      <td>..</td>\n",
       "    </tr>\n",
       "    <tr>\n",
       "      <th>2</th>\n",
       "      <td>2022-23</td>\n",
       "      <td>Male</td>\n",
       "      <td>16 - 24</td>\n",
       "      <td>Not a disabled</td>\n",
       "      <td>Employee</td>\n",
       "      <td>North East (E12000001)</td>\n",
       "      <td>£100 - £149.99</td>\n",
       "      <td>..</td>\n",
       "    </tr>\n",
       "    <tr>\n",
       "      <th>3</th>\n",
       "      <td>2022-23</td>\n",
       "      <td>Male</td>\n",
       "      <td>16 - 24</td>\n",
       "      <td>Not a disabled</td>\n",
       "      <td>Employee</td>\n",
       "      <td>North East (E12000001)</td>\n",
       "      <td>£150 - £199.99</td>\n",
       "      <td>4762</td>\n",
       "    </tr>\n",
       "    <tr>\n",
       "      <th>4</th>\n",
       "      <td>2022-23</td>\n",
       "      <td>Male</td>\n",
       "      <td>16 - 24</td>\n",
       "      <td>Not a disabled</td>\n",
       "      <td>Employee</td>\n",
       "      <td>North East (E12000001)</td>\n",
       "      <td>£200 - £249.99</td>\n",
       "      <td>4424</td>\n",
       "    </tr>\n",
       "  </tbody>\n",
       "</table>\n",
       "</div>"
      ],
      "text/plain": [
       "  Financial Year Gender Age_Band Disability_Status Employment_Status  \\\n",
       "0        2022-23   Male  16 - 24    Not a disabled          Employee   \n",
       "1        2022-23   Male  16 - 24    Not a disabled          Employee   \n",
       "2        2022-23   Male  16 - 24    Not a disabled          Employee   \n",
       "3        2022-23   Male  16 - 24    Not a disabled          Employee   \n",
       "4        2022-23   Male  16 - 24    Not a disabled          Employee   \n",
       "\n",
       "  Region_of_the_Household Net_Income_Received_from_all_sources_Weekly Count  \n",
       "0  North East (E12000001)                               Less than £50    ..  \n",
       "1  North East (E12000001)                                £50 - £99.99    ..  \n",
       "2  North East (E12000001)                              £100 - £149.99    ..  \n",
       "3  North East (E12000001)                              £150 - £199.99  4762  \n",
       "4  North East (E12000001)                              £200 - £249.99  4424  "
      ]
     },
     "execution_count": 46,
     "metadata": {},
     "output_type": "execute_result"
    }
   ],
   "source": [
    "# Rename 'Employment Status of the Adult (high level breakdowns) (emp, \n",
    "# ftpt)'column name.\n",
    "df.rename(\n",
    "    columns={'Employment Status of the Adult (high level breakdowns) (emp, ftpt)' \\\n",
    "            : 'Employment_Status',\n",
    "            'Government office region of the Household in the United Kingdom' \\\n",
    "            : 'Region_of_the_Household',\n",
    "            'Adult total, net Income received from all sources, in bands, in latest prices (weekly, CPI adjusted real terms) (colpall, cpi, dividend, inc, netinc, real, sc)' \\\n",
    "            : 'Net_Income_Received_from_all_sources_Weekly'\n",
    "    }, \n",
    "    inplace=True\n",
    ")\n",
    "df.head()"
   ]
  },
  {
   "cell_type": "code",
   "execution_count": 47,
   "metadata": {},
   "outputs": [
    {
     "data": {
      "text/html": [
       "<div>\n",
       "<style scoped>\n",
       "    .dataframe tbody tr th:only-of-type {\n",
       "        vertical-align: middle;\n",
       "    }\n",
       "\n",
       "    .dataframe tbody tr th {\n",
       "        vertical-align: top;\n",
       "    }\n",
       "\n",
       "    .dataframe thead th {\n",
       "        text-align: right;\n",
       "    }\n",
       "</style>\n",
       "<table border=\"1\" class=\"dataframe\">\n",
       "  <thead>\n",
       "    <tr style=\"text-align: right;\">\n",
       "      <th></th>\n",
       "      <th>Financial Year</th>\n",
       "      <th>Gender</th>\n",
       "      <th>Age_Band</th>\n",
       "      <th>Disability_Status</th>\n",
       "      <th>Employment_Status</th>\n",
       "      <th>Region_of_the_Household</th>\n",
       "      <th>Net_Income_Received_from_all_sources_Weekly</th>\n",
       "      <th>Count</th>\n",
       "    </tr>\n",
       "  </thead>\n",
       "  <tbody>\n",
       "    <tr>\n",
       "      <th>0</th>\n",
       "      <td>2022-23</td>\n",
       "      <td>Male</td>\n",
       "      <td>16 - 24</td>\n",
       "      <td>Not a disabled</td>\n",
       "      <td>Employee</td>\n",
       "      <td>North East (E12000001)</td>\n",
       "      <td>£150 - £199.99</td>\n",
       "      <td>4762</td>\n",
       "    </tr>\n",
       "    <tr>\n",
       "      <th>1</th>\n",
       "      <td>2022-23</td>\n",
       "      <td>Male</td>\n",
       "      <td>16 - 24</td>\n",
       "      <td>Not a disabled</td>\n",
       "      <td>Employee</td>\n",
       "      <td>North East (E12000001)</td>\n",
       "      <td>£200 - £249.99</td>\n",
       "      <td>4424</td>\n",
       "    </tr>\n",
       "    <tr>\n",
       "      <th>2</th>\n",
       "      <td>2022-23</td>\n",
       "      <td>Male</td>\n",
       "      <td>16 - 24</td>\n",
       "      <td>Not a disabled</td>\n",
       "      <td>Employee</td>\n",
       "      <td>North East (E12000001)</td>\n",
       "      <td>£250 - £299.99</td>\n",
       "      <td>3805</td>\n",
       "    </tr>\n",
       "    <tr>\n",
       "      <th>3</th>\n",
       "      <td>2022-23</td>\n",
       "      <td>Male</td>\n",
       "      <td>16 - 24</td>\n",
       "      <td>Not a disabled</td>\n",
       "      <td>Employee</td>\n",
       "      <td>North East (E12000001)</td>\n",
       "      <td>£300 - £399.99</td>\n",
       "      <td>15726</td>\n",
       "    </tr>\n",
       "    <tr>\n",
       "      <th>4</th>\n",
       "      <td>2022-23</td>\n",
       "      <td>Male</td>\n",
       "      <td>16 - 24</td>\n",
       "      <td>Not a disabled</td>\n",
       "      <td>Employee</td>\n",
       "      <td>North East (E12000001)</td>\n",
       "      <td>£400 - £499.99</td>\n",
       "      <td>17206</td>\n",
       "    </tr>\n",
       "  </tbody>\n",
       "</table>\n",
       "</div>"
      ],
      "text/plain": [
       "  Financial Year Gender Age_Band Disability_Status Employment_Status  \\\n",
       "0        2022-23   Male  16 - 24    Not a disabled          Employee   \n",
       "1        2022-23   Male  16 - 24    Not a disabled          Employee   \n",
       "2        2022-23   Male  16 - 24    Not a disabled          Employee   \n",
       "3        2022-23   Male  16 - 24    Not a disabled          Employee   \n",
       "4        2022-23   Male  16 - 24    Not a disabled          Employee   \n",
       "\n",
       "  Region_of_the_Household Net_Income_Received_from_all_sources_Weekly  Count  \n",
       "0  North East (E12000001)                              £150 - £199.99   4762  \n",
       "1  North East (E12000001)                              £200 - £249.99   4424  \n",
       "2  North East (E12000001)                              £250 - £299.99   3805  \n",
       "3  North East (E12000001)                              £300 - £399.99  15726  \n",
       "4  North East (E12000001)                              £400 - £499.99  17206  "
      ]
     },
     "execution_count": 47,
     "metadata": {},
     "output_type": "execute_result"
    }
   ],
   "source": [
    "# Droping first three rows, because the count column have missing values.\n",
    "df = df.iloc[3:].reset_index(drop=True)\n",
    "df.head()"
   ]
  },
  {
   "cell_type": "code",
   "execution_count": 48,
   "metadata": {},
   "outputs": [
    {
     "data": {
      "text/plain": [
       "array(['Employee', 'Self-employed (setyp)', 'Unemployed', 'Retired',\n",
       "       'Other economically inactive (oei)'], dtype=object)"
      ]
     },
     "execution_count": 48,
     "metadata": {},
     "output_type": "execute_result"
    }
   ],
   "source": [
    "# Looking for unique values in the 'Employment Status of the Adult (high\n",
    "#  level breakdowns) (emp, ftpt)' column.\n",
    "df['Employment_Status'].unique()"
   ]
  },
  {
   "cell_type": "code",
   "execution_count": 49,
   "metadata": {},
   "outputs": [
    {
     "name": "stdout",
     "output_type": "stream",
     "text": [
      "<class 'pandas.core.frame.DataFrame'>\n",
      "RangeIndex: 19437 entries, 0 to 19436\n",
      "Data columns (total 8 columns):\n",
      " #   Column                                       Non-Null Count  Dtype \n",
      "---  ------                                       --------------  ----- \n",
      " 0   Financial Year                               19437 non-null  object\n",
      " 1   Gender                                       19437 non-null  object\n",
      " 2   Age_Band                                     19437 non-null  object\n",
      " 3   Disability_Status                            19437 non-null  object\n",
      " 4   Employment_Status                            19437 non-null  object\n",
      " 5   Region_of_the_Household                      19437 non-null  object\n",
      " 6   Net_Income_Received_from_all_sources_Weekly  19437 non-null  object\n",
      " 7   Count                                        19437 non-null  object\n",
      "dtypes: object(8)\n",
      "memory usage: 1.2+ MB\n"
     ]
    }
   ],
   "source": [
    "df.info()"
   ]
  },
  {
   "cell_type": "code",
   "execution_count": 50,
   "metadata": {},
   "outputs": [],
   "source": [
    "# Converting 'Count' column to the int type.\n",
    "df['Count'] = pd.to_numeric(df['Count'], errors='coerce')\n"
   ]
  },
  {
   "cell_type": "code",
   "execution_count": 51,
   "metadata": {},
   "outputs": [
    {
     "data": {
      "text/html": [
       "<div>\n",
       "<style scoped>\n",
       "    .dataframe tbody tr th:only-of-type {\n",
       "        vertical-align: middle;\n",
       "    }\n",
       "\n",
       "    .dataframe tbody tr th {\n",
       "        vertical-align: top;\n",
       "    }\n",
       "\n",
       "    .dataframe thead th {\n",
       "        text-align: right;\n",
       "    }\n",
       "</style>\n",
       "<table border=\"1\" class=\"dataframe\">\n",
       "  <thead>\n",
       "    <tr style=\"text-align: right;\">\n",
       "      <th></th>\n",
       "      <th>Financial Year</th>\n",
       "      <th>Gender</th>\n",
       "      <th>Age_Band</th>\n",
       "      <th>Disability_Status</th>\n",
       "      <th>Employment_Status</th>\n",
       "      <th>Region_of_the_Household</th>\n",
       "      <th>Net_Income_Received_from_all_sources_Weekly</th>\n",
       "      <th>Count</th>\n",
       "    </tr>\n",
       "  </thead>\n",
       "  <tbody>\n",
       "    <tr>\n",
       "      <th>0</th>\n",
       "      <td>2022-23</td>\n",
       "      <td>Male</td>\n",
       "      <td>16 - 24</td>\n",
       "      <td>Not a disabled</td>\n",
       "      <td>Employee</td>\n",
       "      <td>North East (E12000001)</td>\n",
       "      <td>£150 - £199.99</td>\n",
       "      <td>4762.0</td>\n",
       "    </tr>\n",
       "    <tr>\n",
       "      <th>1</th>\n",
       "      <td>2022-23</td>\n",
       "      <td>Male</td>\n",
       "      <td>16 - 24</td>\n",
       "      <td>Not a disabled</td>\n",
       "      <td>Employee</td>\n",
       "      <td>North East (E12000001)</td>\n",
       "      <td>£200 - £249.99</td>\n",
       "      <td>4424.0</td>\n",
       "    </tr>\n",
       "    <tr>\n",
       "      <th>2</th>\n",
       "      <td>2022-23</td>\n",
       "      <td>Male</td>\n",
       "      <td>16 - 24</td>\n",
       "      <td>Not a disabled</td>\n",
       "      <td>Employee</td>\n",
       "      <td>North East (E12000001)</td>\n",
       "      <td>£250 - £299.99</td>\n",
       "      <td>3805.0</td>\n",
       "    </tr>\n",
       "    <tr>\n",
       "      <th>3</th>\n",
       "      <td>2022-23</td>\n",
       "      <td>Male</td>\n",
       "      <td>16 - 24</td>\n",
       "      <td>Not a disabled</td>\n",
       "      <td>Employee</td>\n",
       "      <td>North East (E12000001)</td>\n",
       "      <td>£300 - £399.99</td>\n",
       "      <td>15726.0</td>\n",
       "    </tr>\n",
       "    <tr>\n",
       "      <th>4</th>\n",
       "      <td>2022-23</td>\n",
       "      <td>Male</td>\n",
       "      <td>16 - 24</td>\n",
       "      <td>Not a disabled</td>\n",
       "      <td>Employee</td>\n",
       "      <td>North East (E12000001)</td>\n",
       "      <td>£400 - £499.99</td>\n",
       "      <td>17206.0</td>\n",
       "    </tr>\n",
       "  </tbody>\n",
       "</table>\n",
       "</div>"
      ],
      "text/plain": [
       "  Financial Year Gender Age_Band Disability_Status Employment_Status  \\\n",
       "0        2022-23   Male  16 - 24    Not a disabled          Employee   \n",
       "1        2022-23   Male  16 - 24    Not a disabled          Employee   \n",
       "2        2022-23   Male  16 - 24    Not a disabled          Employee   \n",
       "3        2022-23   Male  16 - 24    Not a disabled          Employee   \n",
       "4        2022-23   Male  16 - 24    Not a disabled          Employee   \n",
       "\n",
       "  Region_of_the_Household Net_Income_Received_from_all_sources_Weekly    Count  \n",
       "0  North East (E12000001)                              £150 - £199.99   4762.0  \n",
       "1  North East (E12000001)                              £200 - £249.99   4424.0  \n",
       "2  North East (E12000001)                              £250 - £299.99   3805.0  \n",
       "3  North East (E12000001)                              £300 - £399.99  15726.0  \n",
       "4  North East (E12000001)                              £400 - £499.99  17206.0  "
      ]
     },
     "execution_count": 51,
     "metadata": {},
     "output_type": "execute_result"
    }
   ],
   "source": [
    "df.head()"
   ]
  },
  {
   "cell_type": "code",
   "execution_count": 52,
   "metadata": {},
   "outputs": [
    {
     "data": {
      "text/plain": [
       "<Axes: xlabel='Gender'>"
      ]
     },
     "execution_count": 52,
     "metadata": {},
     "output_type": "execute_result"
    },
    {
     "data": {
      "image/png": "[encoded data removed]",
      "text/plain": [
       "<Figure size 640x480 with 1 Axes>"
      ]
     },
     "metadata": {},
     "output_type": "display_data"
    }
   ],
   "source": [
    "df.groupby('Gender')['Count'].sum().plot(kind='bar')"
   ]
  },
  {
   "cell_type": "code",
   "execution_count": 53,
   "metadata": {},
   "outputs": [
    {
     "data": {
      "text/plain": [
       "<Axes: ylabel='Region_of_the_Household'>"
      ]
     },
     "execution_count": 53,
     "metadata": {},
     "output_type": "execute_result"
    },
    {
     "data": {
      "image/png": "[encoded data removed]",
      "text/plain": [
       "<Figure size 640x480 with 1 Axes>"
      ]
     },
     "metadata": {},
     "output_type": "display_data"
    }
   ],
   "source": [
    "df.groupby('Region_of_the_Household')['Count'].sum().plot(kind='barh')"
   ]
  },
  {
   "cell_type": "code",
   "execution_count": 54,
   "metadata": {},
   "outputs": [
    {
     "data": {
      "text/html": [
       "<div>\n",
       "<style scoped>\n",
       "    .dataframe tbody tr th:only-of-type {\n",
       "        vertical-align: middle;\n",
       "    }\n",
       "\n",
       "    .dataframe tbody tr th {\n",
       "        vertical-align: top;\n",
       "    }\n",
       "\n",
       "    .dataframe thead th {\n",
       "        text-align: right;\n",
       "    }\n",
       "</style>\n",
       "<table border=\"1\" class=\"dataframe\">\n",
       "  <thead>\n",
       "    <tr style=\"text-align: right;\">\n",
       "      <th></th>\n",
       "      <th>Financial Year</th>\n",
       "      <th>Gender</th>\n",
       "      <th>Age_Band</th>\n",
       "      <th>Disability_Status</th>\n",
       "      <th>Employment_Status</th>\n",
       "      <th>Region_of_the_Household</th>\n",
       "      <th>Net_Income_Received_from_all_sources_Weekly</th>\n",
       "      <th>Count</th>\n",
       "    </tr>\n",
       "  </thead>\n",
       "  <tbody>\n",
       "    <tr>\n",
       "      <th>0</th>\n",
       "      <td>2022-23</td>\n",
       "      <td>Male</td>\n",
       "      <td>16 - 24</td>\n",
       "      <td>Not a disabled</td>\n",
       "      <td>Employee</td>\n",
       "      <td>North East (E12000001)</td>\n",
       "      <td>£150 - £199.99</td>\n",
       "      <td>4762.0</td>\n",
       "    </tr>\n",
       "    <tr>\n",
       "      <th>1</th>\n",
       "      <td>2022-23</td>\n",
       "      <td>Male</td>\n",
       "      <td>16 - 24</td>\n",
       "      <td>Not a disabled</td>\n",
       "      <td>Employee</td>\n",
       "      <td>North East (E12000001)</td>\n",
       "      <td>£200 - £249.99</td>\n",
       "      <td>4424.0</td>\n",
       "    </tr>\n",
       "    <tr>\n",
       "      <th>2</th>\n",
       "      <td>2022-23</td>\n",
       "      <td>Male</td>\n",
       "      <td>16 - 24</td>\n",
       "      <td>Not a disabled</td>\n",
       "      <td>Employee</td>\n",
       "      <td>North East (E12000001)</td>\n",
       "      <td>£250 - £299.99</td>\n",
       "      <td>3805.0</td>\n",
       "    </tr>\n",
       "    <tr>\n",
       "      <th>3</th>\n",
       "      <td>2022-23</td>\n",
       "      <td>Male</td>\n",
       "      <td>16 - 24</td>\n",
       "      <td>Not a disabled</td>\n",
       "      <td>Employee</td>\n",
       "      <td>North East (E12000001)</td>\n",
       "      <td>£300 - £399.99</td>\n",
       "      <td>15726.0</td>\n",
       "    </tr>\n",
       "    <tr>\n",
       "      <th>4</th>\n",
       "      <td>2022-23</td>\n",
       "      <td>Male</td>\n",
       "      <td>16 - 24</td>\n",
       "      <td>Not a disabled</td>\n",
       "      <td>Employee</td>\n",
       "      <td>North East (E12000001)</td>\n",
       "      <td>£400 - £499.99</td>\n",
       "      <td>17206.0</td>\n",
       "    </tr>\n",
       "  </tbody>\n",
       "</table>\n",
       "</div>"
      ],
      "text/plain": [
       "  Financial Year Gender Age_Band Disability_Status Employment_Status  \\\n",
       "0        2022-23   Male  16 - 24    Not a disabled          Employee   \n",
       "1        2022-23   Male  16 - 24    Not a disabled          Employee   \n",
       "2        2022-23   Male  16 - 24    Not a disabled          Employee   \n",
       "3        2022-23   Male  16 - 24    Not a disabled          Employee   \n",
       "4        2022-23   Male  16 - 24    Not a disabled          Employee   \n",
       "\n",
       "  Region_of_the_Household Net_Income_Received_from_all_sources_Weekly    Count  \n",
       "0  North East (E12000001)                              £150 - £199.99   4762.0  \n",
       "1  North East (E12000001)                              £200 - £249.99   4424.0  \n",
       "2  North East (E12000001)                              £250 - £299.99   3805.0  \n",
       "3  North East (E12000001)                              £300 - £399.99  15726.0  \n",
       "4  North East (E12000001)                              £400 - £499.99  17206.0  "
      ]
     },
     "execution_count": 54,
     "metadata": {},
     "output_type": "execute_result"
    }
   ],
   "source": [
    "df.head()"
   ]
  },
  {
   "cell_type": "code",
   "execution_count": 55,
   "metadata": {},
   "outputs": [
    {
     "data": {
      "text/plain": [
       "<Axes: ylabel='Disability_Status'>"
      ]
     },
     "execution_count": 55,
     "metadata": {},
     "output_type": "execute_result"
    },
    {
     "data": {
      "image/png": "[encoded data removed]",
      "text/plain": [
       "<Figure size 640x480 with 1 Axes>"
      ]
     },
     "metadata": {},
     "output_type": "display_data"
    }
   ],
   "source": [
    "df.groupby('Disability_Status')['Count'].sum().plot(kind='barh')"
   ]
  },
  {
   "cell_type": "code",
   "execution_count": 56,
   "metadata": {},
   "outputs": [
    {
     "data": {
      "text/plain": [
       "<Axes: ylabel='Employment_Status'>"
      ]
     },
     "execution_count": 56,
     "metadata": {},
     "output_type": "execute_result"
    },
    {
     "data": {
      "image/png": "[encoded data removed]",
      "text/plain": [
       "<Figure size 640x480 with 1 Axes>"
      ]
     },
     "metadata": {},
     "output_type": "display_data"
    }
   ],
   "source": [
    "df.groupby('Employment_Status')['Count'].sum().plot(kind='barh')"
   ]
  },
  {
   "cell_type": "code",
   "execution_count": 59,
   "metadata": {},
   "outputs": [
    {
     "data": {
      "text/plain": [
       "<Axes: ylabel='Net_Income_Received_from_all_sources_Weekly'>"
      ]
     },
     "execution_count": 59,
     "metadata": {},
     "output_type": "execute_result"
    },
    {
     "data": {
      "image/png": "[encoded data removed]",
      "text/plain": [
       "<Figure size 640x480 with 1 Axes>"
      ]
     },
     "metadata": {},
     "output_type": "display_data"
    }
   ],
   "source": [
    "df.groupby('Net_Income_Received_from_all_sources_Weekly')['Count'].sum().plot(kind='barh')"
   ]
  },
  {
   "cell_type": "code",
   "execution_count": 68,
   "metadata": {},
   "outputs": [
    {
     "data": {
      "text/plain": [
       "<Axes: xlabel='Net_Income_Received_from_all_sources_Weekly', ylabel='Count'>"
      ]
     },
     "execution_count": 68,
     "metadata": {},
     "output_type": "execute_result"
    },
    {
     "data": {
      "image/png": "[encoded data removed]",
      "text/plain": [
       "<Figure size 1200x1200 with 1 Axes>"
      ]
     },
     "metadata": {},
     "output_type": "display_data"
    }
   ],
   "source": [
    "plt.figure(figsize=[12,12])\n",
    "sns.barplot(data=df, x='Net_Income_Received_from_all_sources_Weekly', y='Count', hue='Disability_Status')"
   ]
  },
  {
   "cell_type": "code",
   "execution_count": null,
   "metadata": {},
   "outputs": [],
   "source": []
  }
 ],
 "metadata": {
  "kernelspec": {
   "display_name": "Python 3",
   "language": "python",
   "name": "python3"
  },
  "language_info": {
   "codemirror_mode": {
    "name": "ipython",
    "version": 3
   },
   "file_extension": ".py",
   "mimetype": "text/x-python",
   "name": "python",
   "nbconvert_exporter": "python",
   "pygments_lexer": "ipython3",
   "version": "3.12.2"
  }
 },
 "nbformat": 4,
 "nbformat_minor": 2
}
